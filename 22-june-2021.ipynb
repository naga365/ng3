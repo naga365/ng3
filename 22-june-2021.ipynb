{
 "cells": [
  {
   "cell_type": "code",
   "execution_count": 1,
   "id": "46cf0fab",
   "metadata": {},
   "outputs": [
    {
     "ename": "SyntaxError",
     "evalue": "invalid syntax (<ipython-input-1-8412a06a9341>, line 6)",
     "output_type": "error",
     "traceback": [
      "\u001b[1;36m  File \u001b[1;32m\"<ipython-input-1-8412a06a9341>\"\u001b[1;36m, line \u001b[1;32m6\u001b[0m\n\u001b[1;33m    else i>4:\u001b[0m\n\u001b[1;37m         ^\u001b[0m\n\u001b[1;31mSyntaxError\u001b[0m\u001b[1;31m:\u001b[0m invalid syntax\n"
     ]
    }
   ],
   "source": [
    "st=\" \"\n",
    "for i in range(9):\n",
    "    if i<5:\n",
    "        st+=\"#\"\n",
    "        print(st)\n",
    "    else i>4:\n",
    "        k=st[:-1] \n",
    "        print(k)"
   ]
  },
  {
   "cell_type": "code",
   "execution_count": 11,
   "id": "19a6950d",
   "metadata": {},
   "outputs": [
    {
     "name": "stdout",
     "output_type": "stream",
     "text": [
      "81\t17\t34\t6\t6\t72\t7\t44\t15\t71\t44\t32\t90\t1\t100\t22\t77\t53\t96\t90\t49\t56\t42\t62\t84\t77\t2\t84\t44\t13\t34\t81\t61\t45\t27\t81\t83\t5\t97\t82\t28\t61\t60\t79\t1\t47\t83\t21\t85\t91\t90\t22\t97\t5\t2\t57\t13\t50\t79\t44\t69\t60\t93\t81\t25\t42\t84\t54\t10\t3\t85\t32\t2\t39\t80\t36\t69\t65\t45\t95\t5\t21\t4\t88\t53\t16\t92\t85\t53\t19\t33\t93\t96\t77\t11\t47\t97\t51\t5\t9\t"
     ]
    }
   ],
   "source": [
    "import random\n",
    "for i in range(100):\n",
    "    k=random.randint(1,100)\n",
    "    print(k,end=\"\\t\")"
   ]
  },
  {
   "cell_type": "code",
   "execution_count": 12,
   "id": "183ba05a",
   "metadata": {},
   "outputs": [
    {
     "name": "stdout",
     "output_type": "stream",
     "text": [
      "20 92 68 67 45 31 82 61 79 63 67 41 62 76 4 96 85 20 27 32 11 65 20 45 27 65 96 49 89 7 94 53 78 24 16 41 40 51 16 86 38 41 18 56 42 56 63 16 98 13 22 28 97 47 77 37 90 70 18 86 73 1 25 56 36 26 10 43 2 48 82 14 56 49 28 98 83 78 74 33 88 66 82 96 42 3 61 78 80 6 86 38 24 3 83 35 31 81 32 "
     ]
    }
   ],
   "source": [
    "import random\n",
    "for i in range(1,100):\n",
    "    k=random.randint(1,100)\n",
    "    print(k,end=\" \")"
   ]
  },
  {
   "cell_type": "code",
   "execution_count": 14,
   "id": "0f72a6d2",
   "metadata": {},
   "outputs": [],
   "source": [
    "# file \n",
    "### collection of information \n",
    "## methods \n",
    "### read()\n",
    "### write()\n",
    "### readlines()\n",
    "### read line()\n",
    "# modes:\n",
    "### read----r\n",
    "### write----w\n",
    "### append---a\n",
    "## steps to open and close  a file\n",
    "  ## open a file---->(filename,mode)\n",
    "  ## method declaration->read(),write()\n",
    "  ## close the file --->filename.close"
   ]
  },
  {
   "cell_type": "code",
   "execution_count": 7,
   "id": "d1f73b49",
   "metadata": {},
   "outputs": [
    {
     "name": "stdout",
     "output_type": "stream",
     "text": [
      "nagagopii\n",
      "abc 40 50 60\n",
      "def 50 70 30\n",
      "ghi 20 10 50\n",
      "  \n",
      "  \n",
      "  \n",
      "hii guys how are you all\n"
     ]
    }
   ],
   "source": [
    "f=open(\"sample.txt\",\"r\")\n",
    "f1=f.read()\n",
    "f.close\n",
    "print(f1)"
   ]
  },
  {
   "cell_type": "code",
   "execution_count": 8,
   "id": "76290c2f",
   "metadata": {},
   "outputs": [
    {
     "data": {
      "text/plain": [
       "'nagagopii\\nabc 40 50 60\\ndef 50 70 30\\nghi 20 10 50\\n  \\n  \\n  \\nhii guys how are you all'"
      ]
     },
     "execution_count": 8,
     "metadata": {},
     "output_type": "execute_result"
    }
   ],
   "source": [
    "f1"
   ]
  },
  {
   "cell_type": "code",
   "execution_count": 23,
   "id": "d19635c6",
   "metadata": {},
   "outputs": [
    {
     "name": "stdout",
     "output_type": "stream",
     "text": [
      "enter your datakits\n"
     ]
    },
    {
     "data": {
      "text/plain": [
       "<function TextIOWrapper.close()>"
      ]
     },
     "execution_count": 23,
     "metadata": {},
     "output_type": "execute_result"
    }
   ],
   "source": [
    "f=open(\"sample.txt\" , \"a\")# append mode is nothing but just a data to text to the text file \n",
    "data=input(\"enter your data\")\n",
    "f.write(data)\n",
    "f.close"
   ]
  },
  {
   "cell_type": "code",
   "execution_count": 19,
   "id": "363249db",
   "metadata": {},
   "outputs": [
    {
     "data": {
      "text/plain": [
       "4"
      ]
     },
     "execution_count": 19,
     "metadata": {},
     "output_type": "execute_result"
    }
   ],
   "source": [
    "f1"
   ]
  },
  {
   "cell_type": "code",
   "execution_count": 34,
   "id": "5e6817dc",
   "metadata": {},
   "outputs": [
    {
     "name": "stdout",
     "output_type": "stream",
     "text": [
      "naga gopi\n"
     ]
    },
    {
     "data": {
      "text/plain": [
       "<function TextIOWrapper.close()>"
      ]
     },
     "execution_count": 34,
     "metadata": {},
     "output_type": "execute_result"
    }
   ],
   "source": [
    "f=open(\"sample.txt\",\"w\")\n",
    "data=input()\n",
    "f1=f.write(\"data\")# previous written is gone and which we given is appear by using write mode\n",
    "f.close"
   ]
  },
  {
   "cell_type": "code",
   "execution_count": 27,
   "id": "a148e7c9",
   "metadata": {},
   "outputs": [
    {
     "name": "stdout",
     "output_type": "stream",
     "text": [
      "jhj\n"
     ]
    },
    {
     "data": {
      "text/plain": [
       "<function TextIOWrapper.close()>"
      ]
     },
     "execution_count": 27,
     "metadata": {},
     "output_type": "execute_result"
    }
   ],
   "source": [
    "f=open(\"sample.txt\",\"w\")\n",
    "data=input()\n",
    "f.write(data)\n",
    "f.close"
   ]
  },
  {
   "cell_type": "code",
   "execution_count": 32,
   "id": "4d11f4c6",
   "metadata": {},
   "outputs": [
    {
     "name": "stdout",
     "output_type": "stream",
     "text": [
      "kits\n",
      "\n"
     ]
    },
    {
     "data": {
      "text/plain": [
       "<function TextIOWrapper.close()>"
      ]
     },
     "execution_count": 32,
     "metadata": {},
     "output_type": "execute_result"
    }
   ],
   "source": [
    "#readline\n",
    "f=open(\"sample.txt\",\"r\")\n",
    "f1=f.readline()\n",
    "print(f1)\n",
    "f.close"
   ]
  },
  {
   "cell_type": "code",
   "execution_count": 33,
   "id": "b73cb145",
   "metadata": {},
   "outputs": [
    {
     "name": "stdout",
     "output_type": "stream",
     "text": [
      "['kits\\n', 'college\\n', 'naga']\n"
     ]
    },
    {
     "data": {
      "text/plain": [
       "<function TextIOWrapper.close()>"
      ]
     },
     "execution_count": 33,
     "metadata": {},
     "output_type": "execute_result"
    }
   ],
   "source": [
    "#readlines\n",
    "f=open(\"sample.txt\",\"r\")\n",
    "f1=f.readlines()\n",
    "print(f1)\n",
    "f.close"
   ]
  },
  {
   "cell_type": "code",
   "execution_count": 39,
   "id": "ccde975e",
   "metadata": {},
   "outputs": [
    {
     "name": "stdout",
     "output_type": "stream",
     "text": [
      "kits\n",
      "college\n",
      "naga\n"
     ]
    }
   ],
   "source": [
    "with open(\"sample.txt\",\"r\") as f:# here   we  use keyord with  to short the processs{ note: if we use with keyword we dosent use close() \n",
    "    f1=f.read()\n",
    "    print(f1)\n",
    "    "
   ]
  },
  {
   "cell_type": "code",
   "execution_count": 11,
   "id": "18b27b99",
   "metadata": {},
   "outputs": [
    {
     "name": "stdout",
     "output_type": "stream",
     "text": [
      "hi guys \n"
     ]
    }
   ],
   "source": [
    "with open(\"sample.txt\",\"a\") as f:\n",
    "    data=input()\n",
    "    f1=f.write(data + \"\\n\")\n",
    "    \n"
   ]
  },
  {
   "cell_type": "code",
   "execution_count": 46,
   "id": "886f8a0a",
   "metadata": {},
   "outputs": [
    {
     "name": "stdout",
     "output_type": "stream",
     "text": [
      "nagagopi\n"
     ]
    }
   ],
   "source": [
    "with open(\"sample.txt\",\"w\") as f:\n",
    "    data=input()\n",
    "    f1=f.write(data)\n",
    "    "
   ]
  },
  {
   "cell_type": "code",
   "execution_count": 51,
   "id": "d253304d",
   "metadata": {
    "scrolled": true
   },
   "outputs": [
    {
     "ename": "FileExistsError",
     "evalue": "[Errno 17] File exists: 'sample.txt'",
     "output_type": "error",
     "traceback": [
      "\u001b[1;31m---------------------------------------------------------------------------\u001b[0m",
      "\u001b[1;31mFileExistsError\u001b[0m                           Traceback (most recent call last)",
      "\u001b[1;32m<ipython-input-51-5f0a05d656d4>\u001b[0m in \u001b[0;36m<module>\u001b[1;34m\u001b[0m\n\u001b[1;32m----> 1\u001b[1;33m \u001b[1;32mwith\u001b[0m \u001b[0mopen\u001b[0m\u001b[1;33m(\u001b[0m\u001b[1;34m\"sample.txt\"\u001b[0m\u001b[1;33m,\u001b[0m\u001b[1;34m\"x\"\u001b[0m\u001b[1;33m)\u001b[0m \u001b[1;32mas\u001b[0m \u001b[0mf\u001b[0m\u001b[1;33m:\u001b[0m\u001b[1;33m\u001b[0m\u001b[1;33m\u001b[0m\u001b[0m\n\u001b[0m\u001b[0;32m      2\u001b[0m     \u001b[0mdata\u001b[0m\u001b[1;33m=\u001b[0m\u001b[0minput\u001b[0m\u001b[1;33m(\u001b[0m\u001b[1;33m)\u001b[0m\u001b[1;33m\u001b[0m\u001b[1;33m\u001b[0m\u001b[0m\n\u001b[0;32m      3\u001b[0m     \u001b[0mf1\u001b[0m\u001b[1;33m=\u001b[0m\u001b[0mf\u001b[0m\u001b[1;33m.\u001b[0m\u001b[0mwrite\u001b[0m\u001b[1;33m(\u001b[0m\u001b[0mdata\u001b[0m\u001b[1;33m)\u001b[0m\u001b[1;33m\u001b[0m\u001b[1;33m\u001b[0m\u001b[0m\n",
      "\u001b[1;31mFileExistsError\u001b[0m: [Errno 17] File exists: 'sample.txt'"
     ]
    }
   ],
   "source": [
    "with open(\"sample.txt\",\"x\") as f:\n",
    "    data=input()\n",
    "    f1=f.write(data)#  x mode  is nothing but if the file is exist alredy it doesn't accept to create a new file error dispalys s output\n"
   ]
  },
  {
   "cell_type": "code",
   "execution_count": 1,
   "id": "08d869f8",
   "metadata": {},
   "outputs": [
    {
     "name": "stdout",
     "output_type": "stream",
     "text": [
      "1234\n",
      "['1234']\n",
      "[1234]\n"
     ]
    }
   ],
   "source": [
    "# syntax: map(function name/datatype name) \n",
    "l=input().split()\n",
    "print(l)\n",
    "m=list(map(int,l))\n",
    "print(m)\n"
   ]
  },
  {
   "cell_type": "code",
   "execution_count": 70,
   "id": "96e18ca6",
   "metadata": {},
   "outputs": [
    {
     "name": "stdout",
     "output_type": "stream",
     "text": [
      "nagagopii\n",
      "abc 40 50 60\n",
      "def 50 70 30\n",
      "ghi 20 10 50\n",
      "n\n",
      "['n']\n",
      "n\n",
      "n []\n",
      "a\n",
      "['a']\n",
      "a\n",
      "a []\n",
      "g\n",
      "['g']\n",
      "g\n",
      "g []\n",
      "a\n",
      "['a']\n",
      "a\n",
      "a []\n",
      "g\n",
      "['g']\n",
      "g\n",
      "g []\n",
      "o\n",
      "['o']\n",
      "o\n",
      "o []\n",
      "p\n",
      "['p']\n",
      "p\n",
      "p []\n",
      "i\n",
      "['i']\n",
      "i\n",
      "i []\n",
      "i\n",
      "['i']\n",
      "i\n",
      "i []\n",
      "\n",
      "\n",
      "[]\n"
     ]
    },
    {
     "ename": "IndexError",
     "evalue": "list index out of range",
     "output_type": "error",
     "traceback": [
      "\u001b[1;31m---------------------------------------------------------------------------\u001b[0m",
      "\u001b[1;31mIndexError\u001b[0m                                Traceback (most recent call last)",
      "\u001b[1;32m<ipython-input-70-f8f2dc0b93e4>\u001b[0m in \u001b[0;36m<module>\u001b[1;34m\u001b[0m\n\u001b[0;32m      7\u001b[0m     \u001b[0mg1\u001b[0m\u001b[1;33m=\u001b[0m\u001b[0mi\u001b[0m\u001b[1;33m.\u001b[0m\u001b[0msplit\u001b[0m\u001b[1;33m(\u001b[0m\u001b[1;33m)\u001b[0m\u001b[1;33m\u001b[0m\u001b[1;33m\u001b[0m\u001b[0m\n\u001b[0;32m      8\u001b[0m     \u001b[0mprint\u001b[0m\u001b[1;33m(\u001b[0m\u001b[0mg1\u001b[0m\u001b[1;33m)\u001b[0m\u001b[1;33m\u001b[0m\u001b[1;33m\u001b[0m\u001b[0m\n\u001b[1;32m----> 9\u001b[1;33m     \u001b[0mw\u001b[0m\u001b[1;33m=\u001b[0m\u001b[0mg1\u001b[0m\u001b[1;33m[\u001b[0m\u001b[1;36m0\u001b[0m\u001b[1;33m]\u001b[0m\u001b[1;33m\u001b[0m\u001b[1;33m\u001b[0m\u001b[0m\n\u001b[0m\u001b[0;32m     10\u001b[0m     \u001b[0mprint\u001b[0m\u001b[1;33m(\u001b[0m\u001b[0mw\u001b[0m\u001b[1;33m)\u001b[0m\u001b[1;33m\u001b[0m\u001b[1;33m\u001b[0m\u001b[0m\n\u001b[0;32m     11\u001b[0m     \u001b[0mt\u001b[0m\u001b[1;33m=\u001b[0m\u001b[0msum\u001b[0m\u001b[1;33m(\u001b[0m\u001b[0mlist\u001b[0m\u001b[1;33m(\u001b[0m\u001b[0mmap\u001b[0m\u001b[1;33m(\u001b[0m\u001b[0mint\u001b[0m\u001b[1;33m,\u001b[0m\u001b[0mg1\u001b[0m\u001b[1;33m[\u001b[0m\u001b[1;36m1\u001b[0m\u001b[1;33m:\u001b[0m\u001b[1;33m]\u001b[0m\u001b[1;33m)\u001b[0m\u001b[1;33m)\u001b[0m\u001b[1;33m)\u001b[0m\u001b[1;33m\u001b[0m\u001b[1;33m\u001b[0m\u001b[0m\n",
      "\u001b[1;31mIndexError\u001b[0m: list index out of range"
     ]
    }
   ],
   "source": [
    "f=open(\"sample.txt\",\"r\")\n",
    "f1=f.read()\n",
    "f.close()\n",
    "print(f1)\n",
    "for i in f1:\n",
    "    print(i)\n",
    "    g1=i.split()\n",
    "    print(g1)\n",
    "    w=g1[0]\n",
    "    print(w)\n",
    "    t=sum(list(map(int,g1[1:])))\n",
    "    print(w,t)"
   ]
  },
  {
   "cell_type": "code",
   "execution_count": 56,
   "id": "ae20dc79",
   "metadata": {},
   "outputs": [
    {
     "data": {
      "text/plain": [
       "'nagagopii\\nabc 40 50 60\\ndef 50 70 30\\nghi 20 10 50'"
      ]
     },
     "execution_count": 56,
     "metadata": {},
     "output_type": "execute_result"
    }
   ],
   "source": [
    "\n"
   ]
  },
  {
   "cell_type": "code",
   "execution_count": 63,
   "id": "2a6759f2",
   "metadata": {},
   "outputs": [
    {
     "name": "stdout",
     "output_type": "stream",
     "text": [
      "['nagagopii', 'abc', '40', '50', '60', 'def', '50', '70', '30', 'ghi', '20', '10', '50'] "
     ]
    }
   ],
   "source": [
    "l=f1\n",
    "l=l.split()\n",
    "print(l,end=\" \")\n"
   ]
  },
  {
   "cell_type": "code",
   "execution_count": 64,
   "id": "e753ea2c",
   "metadata": {},
   "outputs": [],
   "source": []
  },
  {
   "cell_type": "code",
   "execution_count": 65,
   "id": "fe4dfc65",
   "metadata": {},
   "outputs": [
    {
     "data": {
      "text/plain": [
       "['nagagopii',\n",
       " 'abc',\n",
       " '40',\n",
       " '50',\n",
       " '60',\n",
       " 'def',\n",
       " '50',\n",
       " '70',\n",
       " '30',\n",
       " 'ghi',\n",
       " '20',\n",
       " '10',\n",
       " '50']"
      ]
     },
     "execution_count": 65,
     "metadata": {},
     "output_type": "execute_result"
    }
   ],
   "source": []
  },
  {
   "cell_type": "code",
   "execution_count": 2,
   "id": "03a64880",
   "metadata": {},
   "outputs": [
    {
     "name": "stdout",
     "output_type": "stream",
     "text": [
      "45\n"
     ]
    }
   ],
   "source": [
    "# task2\n",
    "# nof lines \n",
    "# no of words \n",
    "# no of letters\n",
    "f=open(\"sample1.txt\",\"r\")\n",
    "f1=f.readline()\n",
    "print(len(f1))\n",
    "f.close()"
   ]
  },
  {
   "cell_type": "code",
   "execution_count": 4,
   "id": "40d9b4b8",
   "metadata": {},
   "outputs": [
    {
     "name": "stdout",
     "output_type": "stream",
     "text": [
      "45\n",
      "['no', 'of', 'lines', 'no', 'of', 'words', 'no', 'ofletters']\n"
     ]
    }
   ],
   "source": [
    "# splitting the letters \n",
    "f=open(\"sample1.txt\",\"r\")\n",
    "f1=f.readline()\n",
    "print(len(f1))\n",
    "h=f1.split()\n",
    "print(h)\n",
    "f.close()"
   ]
  },
  {
   "cell_type": "code",
   "execution_count": 2,
   "id": "6252aadd",
   "metadata": {},
   "outputs": [
    {
     "name": "stdout",
     "output_type": "stream",
     "text": [
      "45\n"
     ]
    }
   ],
   "source": [
    "# no of letters\n",
    "f=open(\"sample1.txt\",\"r\")\n",
    "f1=f.readline()\n",
    "print(len(f1))\n",
    "f.close()"
   ]
  },
  {
   "cell_type": "code",
   "execution_count": 10,
   "id": "aed07939",
   "metadata": {},
   "outputs": [
    {
     "name": "stdout",
     "output_type": "stream",
     "text": [
      "hi guys i am nagaggopi naga\n",
      "27\n"
     ]
    }
   ],
   "source": [
    "f=open(\"add.txt\",\"a\")\n",
    "data=input()\n",
    "f1=f.write(data)\n",
    "f.close()\n",
    "print(f1)"
   ]
  },
  {
   "cell_type": "code",
   "execution_count": 18,
   "id": "aec99859",
   "metadata": {},
   "outputs": [
    {
     "name": "stdout",
     "output_type": "stream",
     "text": [
      "\n",
      "abc 40 50 60\n",
      "def 50 70 30\n",
      "ghi 20 10 50\n",
      "\n",
      "\n",
      "[]\n"
     ]
    },
    {
     "ename": "IndexError",
     "evalue": "list index out of range",
     "output_type": "error",
     "traceback": [
      "\u001b[1;31m---------------------------------------------------------------------------\u001b[0m",
      "\u001b[1;31mIndexError\u001b[0m                                Traceback (most recent call last)",
      "\u001b[1;32m<ipython-input-18-e7acb478fe72>\u001b[0m in \u001b[0;36m<module>\u001b[1;34m\u001b[0m\n\u001b[0;32m      7\u001b[0m     \u001b[0mg1\u001b[0m\u001b[1;33m=\u001b[0m\u001b[0mi\u001b[0m\u001b[1;33m.\u001b[0m\u001b[0msplit\u001b[0m\u001b[1;33m(\u001b[0m\u001b[1;33m)\u001b[0m\u001b[1;33m\u001b[0m\u001b[1;33m\u001b[0m\u001b[0m\n\u001b[0;32m      8\u001b[0m     \u001b[0mprint\u001b[0m\u001b[1;33m(\u001b[0m\u001b[0mg1\u001b[0m\u001b[1;33m)\u001b[0m\u001b[1;33m\u001b[0m\u001b[1;33m\u001b[0m\u001b[0m\n\u001b[1;32m----> 9\u001b[1;33m     \u001b[0mw\u001b[0m\u001b[1;33m=\u001b[0m\u001b[0mg1\u001b[0m\u001b[1;33m[\u001b[0m\u001b[1;36m0\u001b[0m\u001b[1;33m]\u001b[0m\u001b[1;33m\u001b[0m\u001b[1;33m\u001b[0m\u001b[0m\n\u001b[0m\u001b[0;32m     10\u001b[0m     \u001b[0mprint\u001b[0m\u001b[1;33m(\u001b[0m\u001b[0mw\u001b[0m\u001b[1;33m)\u001b[0m\u001b[1;33m\u001b[0m\u001b[1;33m\u001b[0m\u001b[0m\n\u001b[0;32m     11\u001b[0m     \u001b[0mt\u001b[0m\u001b[1;33m=\u001b[0m\u001b[0msum\u001b[0m\u001b[1;33m(\u001b[0m\u001b[0mlist\u001b[0m\u001b[1;33m(\u001b[0m\u001b[0mmap\u001b[0m\u001b[1;33m(\u001b[0m\u001b[0mint\u001b[0m\u001b[1;33m,\u001b[0m\u001b[0mg1\u001b[0m\u001b[1;33m[\u001b[0m\u001b[1;36m1\u001b[0m\u001b[1;33m:\u001b[0m\u001b[1;33m]\u001b[0m\u001b[1;33m)\u001b[0m\u001b[1;33m)\u001b[0m\u001b[1;33m)\u001b[0m\u001b[1;33m\u001b[0m\u001b[1;33m\u001b[0m\u001b[0m\n",
      "\u001b[1;31mIndexError\u001b[0m: list index out of range"
     ]
    }
   ],
   "source": [
    "f=open(\"add.txt\",\"r\")\n",
    "f1=f.read()\n",
    "f.close()\n",
    "print(f1)\n",
    "for i in f1:\n",
    "    print(i)\n",
    "    g1=i.split()\n",
    "    print(g1)\n",
    "    w=g1[0]\n",
    "    print(w)\n",
    "    t=sum(list(map(int,g1[1:])))\n",
    "    print(w,t)\n",
    " "
   ]
  },
  {
   "cell_type": "code",
   "execution_count": 8,
   "id": "1807a41d",
   "metadata": {},
   "outputs": [
    {
     "name": "stdout",
     "output_type": "stream",
     "text": [
      " # \n",
      " # # \n",
      " # # # \n",
      " # # # # \n",
      " # # # # # \n",
      " # # # # #\n",
      " # # # # #\n",
      " # # # # #\n",
      " # # # # #\n"
     ]
    }
   ],
   "source": [
    "st=\" \"\n",
    "for i in range(9):\n",
    "    if i<5:\n",
    "        st+=\"# \"\n",
    "        print(st)\n",
    "    else:\n",
    "        if i>4:\n",
    "            s=(st[:-1])\n",
    "            print(s)\n",
    "    "
   ]
  },
  {
   "cell_type": "code",
   "execution_count": null,
   "id": "d9232e50",
   "metadata": {},
   "outputs": [],
   "source": []
  }
 ],
 "metadata": {
  "kernelspec": {
   "display_name": "Python 3",
   "language": "python",
   "name": "python3"
  },
  "language_info": {
   "codemirror_mode": {
    "name": "ipython",
    "version": 3
   },
   "file_extension": ".py",
   "mimetype": "text/x-python",
   "name": "python",
   "nbconvert_exporter": "python",
   "pygments_lexer": "ipython3",
   "version": "3.8.8"
  }
 },
 "nbformat": 4,
 "nbformat_minor": 5
}
