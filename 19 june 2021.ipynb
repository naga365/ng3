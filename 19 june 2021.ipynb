{
 "cells": [
  {
   "cell_type": "markdown",
   "id": "75a7a3c4",
   "metadata": {},
   "source": []
  },
  {
   "cell_type": "code",
   "execution_count": 1,
   "id": "48dd8fd7",
   "metadata": {},
   "outputs": [
    {
     "data": {
      "text/plain": [
       "65"
      ]
     },
     "execution_count": 1,
     "metadata": {},
     "output_type": "execute_result"
    }
   ],
   "source": [
    "ord(\"A\")"
   ]
  },
  {
   "cell_type": "code",
   "execution_count": 2,
   "id": "5a8ee504",
   "metadata": {},
   "outputs": [
    {
     "data": {
      "text/plain": [
       "97"
      ]
     },
     "execution_count": 2,
     "metadata": {},
     "output_type": "execute_result"
    }
   ],
   "source": [
    "ord(\"a\")"
   ]
  },
  {
   "cell_type": "code",
   "execution_count": 7,
   "id": "1d2638fd",
   "metadata": {},
   "outputs": [
    {
     "name": "stdout",
     "output_type": "stream",
     "text": [
      "[0, 1, 2, 3, 4, 5, 6, 7, 8, 9, 10]\n"
     ]
    },
    {
     "ename": "ValueError",
     "evalue": "max() arg is an empty sequence",
     "output_type": "error",
     "traceback": [
      "\u001b[1;31m---------------------------------------------------------------------------\u001b[0m",
      "\u001b[1;31mValueError\u001b[0m                                Traceback (most recent call last)",
      "\u001b[1;32m<ipython-input-7-f1aeead4f794>\u001b[0m in \u001b[0;36m<module>\u001b[1;34m\u001b[0m\n\u001b[0;32m      6\u001b[0m \u001b[0mprint\u001b[0m\u001b[1;33m(\u001b[0m\u001b[0ml\u001b[0m\u001b[1;33m)\u001b[0m\u001b[1;33m\u001b[0m\u001b[1;33m\u001b[0m\u001b[0m\n\u001b[0;32m      7\u001b[0m \u001b[0ml\u001b[0m\u001b[1;33m=\u001b[0m\u001b[0mtuple\u001b[0m\u001b[1;33m(\u001b[0m\u001b[0mt\u001b[0m\u001b[1;33m)\u001b[0m\u001b[1;33m\u001b[0m\u001b[1;33m\u001b[0m\u001b[0m\n\u001b[1;32m----> 8\u001b[1;33m \u001b[0mprint\u001b[0m\u001b[1;33m(\u001b[0m\u001b[0mt\u001b[0m\u001b[1;33m.\u001b[0m\u001b[0mindex\u001b[0m\u001b[1;33m(\u001b[0m\u001b[0mmax\u001b[0m\u001b[1;33m(\u001b[0m\u001b[0mt\u001b[0m\u001b[1;33m)\u001b[0m\u001b[1;33m)\u001b[0m\u001b[1;33m)\u001b[0m\u001b[1;33m\u001b[0m\u001b[1;33m\u001b[0m\u001b[0m\n\u001b[0m\u001b[0;32m      9\u001b[0m \u001b[0mprint\u001b[0m\u001b[1;33m(\u001b[0m\u001b[0mt\u001b[0m\u001b[1;33m.\u001b[0m\u001b[0mcount\u001b[0m\u001b[1;33m(\u001b[0m\u001b[0mmin\u001b[0m\u001b[1;33m(\u001b[0m\u001b[0mt\u001b[0m\u001b[1;33m)\u001b[0m\u001b[1;33m)\u001b[0m\u001b[1;33m)\u001b[0m\u001b[1;33m\u001b[0m\u001b[1;33m\u001b[0m\u001b[0m\n\u001b[0;32m     10\u001b[0m \u001b[1;33m\u001b[0m\u001b[0m\n",
      "\u001b[1;31mValueError\u001b[0m: max() arg is an empty sequence"
     ]
    }
   ],
   "source": [
    "t=()\n",
    "l=[]\n",
    "\n",
    "for i in range(11):\n",
    "    l.append(i)\n",
    "print(l)\n",
    "l=tuple(t) \n",
    "print(t.index(max(t)))\n",
    "print(t.count(min(t)))\n",
    "   "
   ]
  },
  {
   "cell_type": "code",
   "execution_count": 1,
   "id": "e0e9b203",
   "metadata": {},
   "outputs": [
    {
     "name": "stdout",
     "output_type": "stream",
     "text": [
      "[0, 1, 4, 9, 16, 25, 36, 49, 64, 81, 100]\n",
      "10\n"
     ]
    },
    {
     "data": {
      "text/plain": [
       "1"
      ]
     },
     "execution_count": 1,
     "metadata": {},
     "output_type": "execute_result"
    }
   ],
   "source": [
    "t1=()\n",
    "m=[]\n",
    "for i in range (11):\n",
    "    m.append(i*i)\n",
    "print(m)\n",
    "m=tuple(m)\n",
    "print(m.index(max(m)))\n",
    "m.count(min(m))"
   ]
  },
  {
   "cell_type": "code",
   "execution_count": 2,
   "id": "377a3e54",
   "metadata": {},
   "outputs": [],
   "source": [
    "###dictionaries\n",
    "# * list of keys and  values\n",
    "#it is used to store the collection of data.\n",
    "#dictionaries are unorderd and changeble\n",
    "#*{keys:values}\n"
   ]
  },
  {
   "cell_type": "code",
   "execution_count": 4,
   "id": "9556a702",
   "metadata": {},
   "outputs": [
    {
     "name": "stdout",
     "output_type": "stream",
     "text": [
      "<class 'dict'>\n",
      "<class 'dict'>\n"
     ]
    }
   ],
   "source": [
    "d={}\n",
    "d1=dict()\n",
    "print(type(d))\n",
    "print(type(d1))"
   ]
  },
  {
   "cell_type": "code",
   "execution_count": 11,
   "id": "03818074",
   "metadata": {},
   "outputs": [
    {
     "name": "stdout",
     "output_type": "stream",
     "text": [
      "{1: 22, 2: 'nagagopi'}\n",
      "22\n",
      "nagagopi\n"
     ]
    }
   ],
   "source": [
    "d={1:22,2:\"nagagopi\"}#printing the  inside values bu using keys\n",
    "print(d)\n",
    "print(d[1])\n",
    "print(d[2])"
   ]
  },
  {
   "cell_type": "code",
   "execution_count": 8,
   "id": "ea53a52b",
   "metadata": {},
   "outputs": [
    {
     "name": "stdout",
     "output_type": "stream",
     "text": [
      "naga\n",
      "22\n"
     ]
    }
   ],
   "source": [
    "l=[1,2,3,4,5,'naga']#index values\n",
    "print(l[-1])\n",
    "print(d[1])"
   ]
  },
  {
   "cell_type": "code",
   "execution_count": 13,
   "id": "b4c9a0e7",
   "metadata": {},
   "outputs": [],
   "source": [
    "l1=[1,2,3,4]\n",
    "l2=[5,6,7,8]\n",
    "d=dict(zip(l1,l2))#zip is use to print thr values in tuple or dictioary form we csn convert by using the zip"
   ]
  },
  {
   "cell_type": "code",
   "execution_count": 15,
   "id": "73c42348",
   "metadata": {},
   "outputs": [
    {
     "data": {
      "text/plain": [
       "{1: 5, 2: 6, 3: 7, 4: 8}"
      ]
     },
     "execution_count": 15,
     "metadata": {},
     "output_type": "execute_result"
    }
   ],
   "source": [
    "d"
   ]
  },
  {
   "cell_type": "code",
   "execution_count": 16,
   "id": "ec1db6e8",
   "metadata": {},
   "outputs": [],
   "source": [
    "l=[1,2,3,4]\n",
    "t=('a','b','c','d')#here we pass list and tuple to covert to dictionary by using zip\n",
    "d1=dict(zip(l,t))"
   ]
  },
  {
   "cell_type": "code",
   "execution_count": 17,
   "id": "793dc9b3",
   "metadata": {},
   "outputs": [
    {
     "data": {
      "text/plain": [
       "{1: 'a', 2: 'b', 3: 'c', 4: 'd'}"
      ]
     },
     "execution_count": 17,
     "metadata": {},
     "output_type": "execute_result"
    }
   ],
   "source": [
    "d1"
   ]
  },
  {
   "cell_type": "code",
   "execution_count": 18,
   "id": "20cfa20d",
   "metadata": {},
   "outputs": [
    {
     "name": "stdout",
     "output_type": "stream",
     "text": [
      "['__class__', '__contains__', '__delattr__', '__delitem__', '__dir__', '__doc__', '__eq__', '__format__', '__ge__', '__getattribute__', '__getitem__', '__gt__', '__hash__', '__init__', '__init_subclass__', '__iter__', '__le__', '__len__', '__lt__', '__ne__', '__new__', '__reduce__', '__reduce_ex__', '__repr__', '__reversed__', '__setattr__', '__setitem__', '__sizeof__', '__str__', '__subclasshook__', 'clear', 'copy', 'fromkeys', 'get', 'items', 'keys', 'pop', 'popitem', 'setdefault', 'update', 'values']\n"
     ]
    }
   ],
   "source": [
    "print(dir(dict))"
   ]
  },
  {
   "cell_type": "code",
   "execution_count": 23,
   "id": "df29822b",
   "metadata": {},
   "outputs": [],
   "source": [
    "d2={'name':'naga','roll no':305,'branch':'cse','clg':\"kits\"}\n"
   ]
  },
  {
   "cell_type": "code",
   "execution_count": 24,
   "id": "f58b79c1",
   "metadata": {},
   "outputs": [
    {
     "data": {
      "text/plain": [
       "dict_keys(['name', 'roll no', 'branch', 'clg'])"
      ]
     },
     "execution_count": 24,
     "metadata": {},
     "output_type": "execute_result"
    }
   ],
   "source": [
    "d2.keys()# we can print keys by using the keys()"
   ]
  },
  {
   "cell_type": "code",
   "execution_count": 25,
   "id": "e8043882",
   "metadata": {},
   "outputs": [
    {
     "data": {
      "text/plain": [
       "dict_items([('name', 'naga'), ('roll no', 305), ('branch', 'cse'), ('clg', 'kits')])"
      ]
     },
     "execution_count": 25,
     "metadata": {},
     "output_type": "execute_result"
    }
   ],
   "source": [
    "d2.items()#we can cannot print the items directly by using the keys we can print"
   ]
  },
  {
   "cell_type": "code",
   "execution_count": 26,
   "id": "7702ee90",
   "metadata": {},
   "outputs": [
    {
     "name": "stdout",
     "output_type": "stream",
     "text": [
      "None\n"
     ]
    }
   ],
   "source": [
    "print(d2.get('naga'))#we cannot get the direct values by using keys we get"
   ]
  },
  {
   "cell_type": "code",
   "execution_count": 27,
   "id": "545b6035",
   "metadata": {},
   "outputs": [
    {
     "name": "stdout",
     "output_type": "stream",
     "text": [
      "naga\n"
     ]
    }
   ],
   "source": [
    "print(d2.get('name')) #get is nothing but   getting a value "
   ]
  },
  {
   "cell_type": "code",
   "execution_count": 3,
   "id": "f5942324",
   "metadata": {},
   "outputs": [
    {
     "ename": "NameError",
     "evalue": "name 'd2' is not defined",
     "output_type": "error",
     "traceback": [
      "\u001b[1;31m---------------------------------------------------------------------------\u001b[0m",
      "\u001b[1;31mNameError\u001b[0m                                 Traceback (most recent call last)",
      "\u001b[1;32m<ipython-input-3-1a14538a3c31>\u001b[0m in \u001b[0;36m<module>\u001b[1;34m\u001b[0m\n\u001b[1;32m----> 1\u001b[1;33m \u001b[0mprint\u001b[0m\u001b[1;33m(\u001b[0m\u001b[0md2\u001b[0m\u001b[1;33m[\u001b[0m\u001b[1;34m'branch'\u001b[0m\u001b[1;33m]\u001b[0m\u001b[1;33m)\u001b[0m\u001b[1;33m\u001b[0m\u001b[1;33m\u001b[0m\u001b[0m\n\u001b[0m",
      "\u001b[1;31mNameError\u001b[0m: name 'd2' is not defined"
     ]
    }
   ],
   "source": [
    "print(d2['branch'])"
   ]
  },
  {
   "cell_type": "code",
   "execution_count": 2,
   "id": "12f9d471",
   "metadata": {},
   "outputs": [
    {
     "ename": "NameError",
     "evalue": "name 'd2' is not defined",
     "output_type": "error",
     "traceback": [
      "\u001b[1;31m---------------------------------------------------------------------------\u001b[0m",
      "\u001b[1;31mNameError\u001b[0m                                 Traceback (most recent call last)",
      "\u001b[1;32m<ipython-input-2-8a88832680e3>\u001b[0m in \u001b[0;36m<module>\u001b[1;34m\u001b[0m\n\u001b[1;32m----> 1\u001b[1;33m \u001b[0md2\u001b[0m\u001b[1;33m[\u001b[0m\u001b[1;34m'age'\u001b[0m\u001b[1;33m]\u001b[0m\u001b[1;33m=\u001b[0m\u001b[1;36m20\u001b[0m \u001b[1;31m#for addind a value by using key\u001b[0m\u001b[1;33m\u001b[0m\u001b[1;33m\u001b[0m\u001b[0m\n\u001b[0m",
      "\u001b[1;31mNameError\u001b[0m: name 'd2' is not defined"
     ]
    }
   ],
   "source": [
    "d2['age']=20 #for addind a value by using key\n"
   ]
  },
  {
   "cell_type": "code",
   "execution_count": 33,
   "id": "57bab06f",
   "metadata": {},
   "outputs": [
    {
     "data": {
      "text/plain": [
       "{'name': 'naga', 'roll no': 305, 'branch': 'cse', 'clg': 'kits', 'age': 20}"
      ]
     },
     "execution_count": 33,
     "metadata": {},
     "output_type": "execute_result"
    }
   ],
   "source": [
    "d2"
   ]
  },
  {
   "cell_type": "code",
   "execution_count": 37,
   "id": "d0660370",
   "metadata": {},
   "outputs": [
    {
     "data": {
      "text/plain": [
       "305"
      ]
     },
     "execution_count": 37,
     "metadata": {},
     "output_type": "execute_result"
    }
   ],
   "source": [
    "d2.pop('roll no')"
   ]
  },
  {
   "cell_type": "code",
   "execution_count": 38,
   "id": "b56a429c",
   "metadata": {},
   "outputs": [
    {
     "data": {
      "text/plain": [
       "{'name': 'naga', 'branch': 'cse', 'clg': 'kits', 'age': 20}"
      ]
     },
     "execution_count": 38,
     "metadata": {},
     "output_type": "execute_result"
    }
   ],
   "source": [
    "d2"
   ]
  },
  {
   "cell_type": "code",
   "execution_count": 39,
   "id": "555ba4cb",
   "metadata": {},
   "outputs": [
    {
     "data": {
      "text/plain": [
       "('age', 20)"
      ]
     },
     "execution_count": 39,
     "metadata": {},
     "output_type": "execute_result"
    }
   ],
   "source": [
    "d2.popitem()# e dictionary it removes last one in the dict"
   ]
  },
  {
   "cell_type": "code",
   "execution_count": 40,
   "id": "d5f8a104",
   "metadata": {},
   "outputs": [
    {
     "data": {
      "text/plain": [
       "{'name': 'naga', 'branch': 'cse', 'clg': 'kits'}"
      ]
     },
     "execution_count": 40,
     "metadata": {},
     "output_type": "execute_result"
    }
   ],
   "source": [
    "d2"
   ]
  },
  {
   "cell_type": "code",
   "execution_count": 43,
   "id": "0a153e64",
   "metadata": {},
   "outputs": [],
   "source": [
    "d2.update({'branch':'IT'})"
   ]
  },
  {
   "cell_type": "code",
   "execution_count": 44,
   "id": "eee23b3f",
   "metadata": {},
   "outputs": [
    {
     "data": {
      "text/plain": [
       "{'name': 'naga', 'branch': 'IT', 'clg': 'kits'}"
      ]
     },
     "execution_count": 44,
     "metadata": {},
     "output_type": "execute_result"
    }
   ],
   "source": [
    "d2"
   ]
  },
  {
   "cell_type": "code",
   "execution_count": 45,
   "id": "60d1d43e",
   "metadata": {},
   "outputs": [
    {
     "data": {
      "text/plain": [
       "{'name': 'naga', 'branch': 'IT', 'clg': 'kits'}"
      ]
     },
     "execution_count": 45,
     "metadata": {},
     "output_type": "execute_result"
    }
   ],
   "source": [
    "d2"
   ]
  },
  {
   "cell_type": "code",
   "execution_count": 46,
   "id": "cf4cda84",
   "metadata": {},
   "outputs": [
    {
     "data": {
      "text/plain": [
       "[20, 21]"
      ]
     },
     "execution_count": 46,
     "metadata": {},
     "output_type": "execute_result"
    }
   ],
   "source": [
    "d2.setdefault('age',[20,21])"
   ]
  },
  {
   "cell_type": "code",
   "execution_count": 47,
   "id": "262eb5e8",
   "metadata": {},
   "outputs": [
    {
     "data": {
      "text/plain": [
       "{'name': 'naga', 'branch': 'IT', 'clg': 'kits', 'age': [20, 21]}"
      ]
     },
     "execution_count": 47,
     "metadata": {},
     "output_type": "execute_result"
    }
   ],
   "source": [
    "d2"
   ]
  },
  {
   "cell_type": "code",
   "execution_count": 48,
   "id": "907dff84",
   "metadata": {},
   "outputs": [
    {
     "data": {
      "text/plain": [
       "[20, 21]"
      ]
     },
     "execution_count": 48,
     "metadata": {},
     "output_type": "execute_result"
    }
   ],
   "source": [
    "d2.setdefault('age',[18,119])"
   ]
  },
  {
   "cell_type": "code",
   "execution_count": 50,
   "id": "78a964df",
   "metadata": {},
   "outputs": [],
   "source": [
    "h={}\n",
    "h1=h.fromkeys(('a','b','c',),[1,2,3])\n"
   ]
  },
  {
   "cell_type": "code",
   "execution_count": 51,
   "id": "a33fa2a6",
   "metadata": {},
   "outputs": [
    {
     "data": {
      "text/plain": [
       "{'a': [1, 2, 3], 'b': [1, 2, 3], 'c': [1, 2, 3]}"
      ]
     },
     "execution_count": 51,
     "metadata": {},
     "output_type": "execute_result"
    }
   ],
   "source": [
    "h1"
   ]
  },
  {
   "cell_type": "code",
   "execution_count": 55,
   "id": "c9a25b3c",
   "metadata": {},
   "outputs": [
    {
     "name": "stdout",
     "output_type": "stream",
     "text": [
      "{1: 10, 2: 20, 3: 30, 4: 50, 5: 50, 6: 60}\n"
     ]
    }
   ],
   "source": [
    "#task crreate d1,d2,d3 three dictionaries and commit into d4 {}\n",
    "d1={1:10,2:20,}\n",
    "d2={3:30,4:50}\n",
    "d3={5:50,6:60}\n",
    "d4={}\n",
    "for d in  (d1,d2,d3):\n",
    "    d4.update(d)\n",
    "print(d4)    "
   ]
  },
  {
   "cell_type": "code",
   "execution_count": 59,
   "id": "cd4e767e",
   "metadata": {},
   "outputs": [
    {
     "name": "stdout",
     "output_type": "stream",
     "text": [
      "enter the stringengenering\n",
      "{'e': 3, 'n': 3, 'g': 2, 'r': 1, 'i': 1}\n"
     ]
    }
   ],
   "source": [
    "#engeineering count the  given string\n",
    "s=input(\"enter the string\")\n",
    "b= {}\n",
    "for i in s:\n",
    "    a=s.count(i)\n",
    "    b[i]=a\n",
    "print(b)    \n",
    "    "
   ]
  },
  {
   "cell_type": "code",
   "execution_count": 61,
   "id": "077c01c4",
   "metadata": {},
   "outputs": [],
   "source": [
    "std={1:['vidya',28],2:['ambika',27],4:['pavani',22]}\n"
   ]
  },
  {
   "cell_type": "code",
   "execution_count": 63,
   "id": "934785f1",
   "metadata": {},
   "outputs": [
    {
     "data": {
      "text/plain": [
       "['vidya', 28]"
      ]
     },
     "execution_count": 63,
     "metadata": {},
     "output_type": "execute_result"
    }
   ],
   "source": [
    "std.pop(1)"
   ]
  },
  {
   "cell_type": "code",
   "execution_count": 64,
   "id": "8b54587b",
   "metadata": {},
   "outputs": [
    {
     "data": {
      "text/plain": [
       "{2: ['ambika', 27], 4: ['pavani', 22]}"
      ]
     },
     "execution_count": 64,
     "metadata": {},
     "output_type": "execute_result"
    }
   ],
   "source": [
    "std"
   ]
  },
  {
   "cell_type": "code",
   "execution_count": 70,
   "id": "dd54714e",
   "metadata": {},
   "outputs": [],
   "source": [
    "std[5]=['abc',32]"
   ]
  },
  {
   "cell_type": "code",
   "execution_count": 71,
   "id": "2d9765b4",
   "metadata": {},
   "outputs": [
    {
     "data": {
      "text/plain": [
       "{2: ['ambika', 27], 4: ['pavani', 22], 5: ['abc', 32]}"
      ]
     },
     "execution_count": 71,
     "metadata": {},
     "output_type": "execute_result"
    }
   ],
   "source": [
    "std"
   ]
  },
  {
   "cell_type": "code",
   "execution_count": 74,
   "id": "bc912489",
   "metadata": {},
   "outputs": [
    {
     "name": "stdout",
     "output_type": "stream",
     "text": [
      "2 : ['ambika', 27]\n",
      "4 : ['pavani', 22]\n",
      "5 : ['abc', 32]\n"
     ]
    }
   ],
   "source": [
    "for k,v in std.items():\n",
    "    print(k,\":\",v),"
   ]
  },
  {
   "cell_type": "code",
   "execution_count": 75,
   "id": "22daad86",
   "metadata": {},
   "outputs": [],
   "source": [
    "#sets \n",
    "#sets is used to collection of unorderd data\n"
   ]
  },
  {
   "cell_type": "code",
   "execution_count": 76,
   "id": "33a50f2e",
   "metadata": {},
   "outputs": [
    {
     "name": "stdout",
     "output_type": "stream",
     "text": [
      "<class 'dict'>\n",
      "<class 'set'>\n"
     ]
    }
   ],
   "source": [
    "s={}\n",
    "print(type(s))\n",
    "s1=set()\n",
    "print(type(s1))"
   ]
  },
  {
   "cell_type": "code",
   "execution_count": 77,
   "id": "61f4590c",
   "metadata": {},
   "outputs": [
    {
     "name": "stdout",
     "output_type": "stream",
     "text": [
      "{1, 2, 3, 4, 5, 6}\n"
     ]
    }
   ],
   "source": [
    "s={1,2,3,4,5,6,5,4}#it dosent print repeated ones\n",
    "print(s)"
   ]
  },
  {
   "cell_type": "code",
   "execution_count": 78,
   "id": "8b766c38",
   "metadata": {},
   "outputs": [],
   "source": [
    "#add\n",
    "s.add(1)"
   ]
  },
  {
   "cell_type": "code",
   "execution_count": 79,
   "id": "20593eb9",
   "metadata": {},
   "outputs": [
    {
     "data": {
      "text/plain": [
       "{1, 2, 3, 4, 5, 6}"
      ]
     },
     "execution_count": 79,
     "metadata": {},
     "output_type": "execute_result"
    }
   ],
   "source": [
    "s"
   ]
  },
  {
   "cell_type": "code",
   "execution_count": 80,
   "id": "0362853d",
   "metadata": {},
   "outputs": [],
   "source": [
    "s.add(7)"
   ]
  },
  {
   "cell_type": "code",
   "execution_count": 81,
   "id": "f3994911",
   "metadata": {},
   "outputs": [
    {
     "data": {
      "text/plain": [
       "{1, 2, 3, 4, 5, 6, 7}"
      ]
     },
     "execution_count": 81,
     "metadata": {},
     "output_type": "execute_result"
    }
   ],
   "source": [
    "s"
   ]
  },
  {
   "cell_type": "code",
   "execution_count": 82,
   "id": "5da6bb85",
   "metadata": {},
   "outputs": [
    {
     "ename": "SyntaxError",
     "evalue": "invalid syntax (<ipython-input-82-89ae58c81906>, line 1)",
     "output_type": "error",
     "traceback": [
      "\u001b[1;36m  File \u001b[1;32m\"<ipython-input-82-89ae58c81906>\"\u001b[1;36m, line \u001b[1;32m1\u001b[0m\n\u001b[1;33m    s.(2,4)\u001b[0m\n\u001b[1;37m      ^\u001b[0m\n\u001b[1;31mSyntaxError\u001b[0m\u001b[1;31m:\u001b[0m invalid syntax\n"
     ]
    }
   ],
   "source": [
    "s.(2,4)# here we can add multiple digits"
   ]
  },
  {
   "cell_type": "code",
   "execution_count": 84,
   "id": "ccd2f248",
   "metadata": {},
   "outputs": [],
   "source": [
    "#copy\n",
    "s1=s.copy"
   ]
  },
  {
   "cell_type": "code",
   "execution_count": 85,
   "id": "e54d7b5a",
   "metadata": {},
   "outputs": [
    {
     "data": {
      "text/plain": [
       "{1, 2, 3, 4, 5, 6, 7}"
      ]
     },
     "execution_count": 85,
     "metadata": {},
     "output_type": "execute_result"
    }
   ],
   "source": [
    "s"
   ]
  },
  {
   "cell_type": "code",
   "execution_count": 86,
   "id": "bcbd0975",
   "metadata": {},
   "outputs": [
    {
     "data": {
      "text/plain": [
       "{1, 2, 3, 4, 5}"
      ]
     },
     "execution_count": 86,
     "metadata": {},
     "output_type": "execute_result"
    }
   ],
   "source": [
    "s1={1,2,3,4,5}# it just compare \n",
    "s2={6,7,8,9,10,11,}\n",
    "s1.difference(s2)"
   ]
  },
  {
   "cell_type": "code",
   "execution_count": 90,
   "id": "892ba444",
   "metadata": {},
   "outputs": [
    {
     "data": {
      "text/plain": [
       "{1, 2, 3, 4, 5}"
      ]
     },
     "execution_count": 90,
     "metadata": {},
     "output_type": "execute_result"
    }
   ],
   "source": [
    "s1.intersection()"
   ]
  },
  {
   "cell_type": "code",
   "execution_count": 88,
   "id": "8b7696e3",
   "metadata": {},
   "outputs": [
    {
     "data": {
      "text/plain": [
       "{1, 2, 3, 4, 5, 6, 7, 8, 9, 10, 11}"
      ]
     },
     "execution_count": 88,
     "metadata": {},
     "output_type": "execute_result"
    }
   ],
   "source": [
    "s1.union(s2)"
   ]
  },
  {
   "cell_type": "code",
   "execution_count": 91,
   "id": "c5b43c31",
   "metadata": {},
   "outputs": [],
   "source": [
    "#functions\n",
    "#*function can be defined as block of reusable code\n",
    "#large proggram into basic building blocks\n",
    "#types of functions\n",
    "#pre defined(max,min,len,sum,ord,chr,abs,int(),map,float.filter)\n",
    "#user defined(inf def keyword)\n"
   ]
  },
  {
   "cell_type": "markdown",
   "id": "19040206",
   "metadata": {},
   "source": [
    "l=[1,2,3,4]\n",
    "print(sum(l))"
   ]
  },
  {
   "cell_type": "code",
   "execution_count": 93,
   "id": "bfa50fda",
   "metadata": {},
   "outputs": [
    {
     "name": "stdout",
     "output_type": "stream",
     "text": [
      "10\n"
     ]
    }
   ],
   "source": [
    "l=[1,2,3,4]\n",
    "print(sum(l))"
   ]
  },
  {
   "cell_type": "code",
   "execution_count": 95,
   "id": "dc341db1",
   "metadata": {},
   "outputs": [
    {
     "name": "stdout",
     "output_type": "stream",
     "text": [
      "10\n",
      "29\n"
     ]
    }
   ],
   "source": [
    "a=10\n",
    "b=29\n",
    "print(abs(a))# printing positve values 'abs'\n",
    "print(abs(b))"
   ]
  },
  {
   "cell_type": "code",
   "execution_count": 98,
   "id": "bc2781e5",
   "metadata": {
    "collapsed": true
   },
   "outputs": [
    {
     "ename": "SyntaxError",
     "evalue": "invalid syntax (<ipython-input-98-3aba493fb1be>, line 1)",
     "output_type": "error",
     "traceback": [
      "\u001b[1;36m  File \u001b[1;32m\"<ipython-input-98-3aba493fb1be>\"\u001b[1;36m, line \u001b[1;32m1\u001b[0m\n\u001b[1;33m    syntax:\u001b[0m\n\u001b[1;37m           ^\u001b[0m\n\u001b[1;31mSyntaxError\u001b[0m\u001b[1;31m:\u001b[0m invalid syntax\n"
     ]
    }
   ],
   "source": [
    "syntax:\n",
    "def functionname(arguments):\n",
    "    body of function\n",
    "functioncalling()    "
   ]
  },
  {
   "cell_type": "code",
   "execution_count": 100,
   "id": "93b33eff",
   "metadata": {},
   "outputs": [
    {
     "name": "stdout",
     "output_type": "stream",
     "text": [
      "hello world\n"
     ]
    }
   ],
   "source": [
    "def hello():\n",
    "    print(\"hello world\")\n",
    "hello()    "
   ]
  },
  {
   "cell_type": "code",
   "execution_count": 101,
   "id": "794c9d95",
   "metadata": {},
   "outputs": [
    {
     "data": {
      "text/plain": [
       "30"
      ]
     },
     "execution_count": 101,
     "metadata": {},
     "output_type": "execute_result"
    }
   ],
   "source": [
    "def add():\n",
    "    a=10\n",
    "    b=20\n",
    "    c=a+b\n",
    "    return c\n",
    "add()"
   ]
  },
  {
   "cell_type": "code",
   "execution_count": 102,
   "id": "1aa26ad7",
   "metadata": {},
   "outputs": [
    {
     "name": "stdout",
     "output_type": "stream",
     "text": [
      "10\n",
      "20\n"
     ]
    },
    {
     "data": {
      "text/plain": [
       "30"
      ]
     },
     "execution_count": 102,
     "metadata": {},
     "output_type": "execute_result"
    }
   ],
   "source": [
    "def add(a,b):\n",
    "    return a+b\n",
    "a=int(input())\n",
    "b=int(input())\n",
    "add(a,b)"
   ]
  },
  {
   "cell_type": "code",
   "execution_count": 9,
   "id": "866995f2",
   "metadata": {},
   "outputs": [
    {
     "name": "stdout",
     "output_type": "stream",
     "text": [
      "10\n",
      "20\n",
      "30\n"
     ]
    }
   ],
   "source": [
    "#arguments \n",
    "#without argument with out return value\n",
    "def addition():\n",
    "    a=int(input())\n",
    "    b=int(input())\n",
    "    c=a+b\n",
    "    print(c)\n",
    "addition()    \n",
    "    "
   ]
  },
  {
   "cell_type": "code",
   "execution_count": null,
   "id": "1eca1115",
   "metadata": {},
   "outputs": [],
   "source": []
  },
  {
   "cell_type": "code",
   "execution_count": 15,
   "id": "2dc080fe",
   "metadata": {
    "collapsed": true
   },
   "outputs": [
    {
     "name": "stdout",
     "output_type": "stream",
     "text": [
      "10\n",
      "30\n",
      "300\n"
     ]
    }
   ],
   "source": [
    "def multiplication(a=int(input()),b=int(input())):#with arguments without return value\n",
    "    c=a*b\n",
    "    print(c)\n",
    "multiplication()                  "
   ]
  },
  {
   "cell_type": "code",
   "execution_count": 29,
   "id": "a51c8269",
   "metadata": {},
   "outputs": [
    {
     "name": "stdout",
     "output_type": "stream",
     "text": [
      "enter a value10\n",
      "enter a value29\n",
      "-19\n"
     ]
    },
    {
     "data": {
      "text/plain": [
       "-19"
      ]
     },
     "execution_count": 29,
     "metadata": {},
     "output_type": "execute_result"
    }
   ],
   "source": [
    "#without arguments with return value\n",
    "def subraction():\n",
    "    \n",
    "    a=int(int(input(\"enter a value\")))\n",
    "    b=int(input(\"enter a value\"))\n",
    "    c=a-b\n",
    "    print(c)\n",
    "    return c\n",
    "subraction()"
   ]
  },
  {
   "cell_type": "code",
   "execution_count": 31,
   "id": "9ba543a9",
   "metadata": {},
   "outputs": [
    {
     "data": {
      "text/plain": [
       "8"
      ]
     },
     "execution_count": 31,
     "metadata": {},
     "output_type": "execute_result"
    }
   ],
   "source": [
    "def power():#withot arguments with return value\n",
    "    n=2\n",
    "    m=3\n",
    "    return n**m\n",
    "power()\n",
    "    "
   ]
  },
  {
   "cell_type": "code",
   "execution_count": 32,
   "id": "c8283b9e",
   "metadata": {},
   "outputs": [
    {
     "data": {
      "text/plain": [
       "('manoj', 'karthhik', 'harshini', 'pardeep naarwal')"
      ]
     },
     "execution_count": 32,
     "metadata": {},
     "output_type": "execute_result"
    }
   ],
   "source": [
    "def printnames(*names):# here with arguments with return value /// * represents to print more than one arguments or names\n",
    "    return names\n",
    "printnames('manoj','karthhik','harshini','pardeep naarwal')\n",
    "    "
   ]
  },
  {
   "cell_type": "code",
   "execution_count": 37,
   "id": "382d20d3",
   "metadata": {},
   "outputs": [
    {
     "data": {
      "text/plain": [
       "('naga', 'hi friendss', 'bye friends')"
      ]
     },
     "execution_count": 37,
     "metadata": {},
     "output_type": "execute_result"
    }
   ],
   "source": [
    "def friendstable(*friends):\n",
    "    return friends \n",
    "friendstable(\"naga\",'hi friendss','bye friends')"
   ]
  },
  {
   "cell_type": "code",
   "execution_count": null,
   "id": "94d75d4e",
   "metadata": {},
   "outputs": [],
   "source": []
  }
 ],
 "metadata": {
  "kernelspec": {
   "display_name": "Python 3",
   "language": "python",
   "name": "python3"
  },
  "language_info": {
   "codemirror_mode": {
    "name": "ipython",
    "version": 3
   },
   "file_extension": ".py",
   "mimetype": "text/x-python",
   "name": "python",
   "nbconvert_exporter": "python",
   "pygments_lexer": "ipython3",
   "version": "3.8.8"
  }
 },
 "nbformat": 4,
 "nbformat_minor": 5
}
